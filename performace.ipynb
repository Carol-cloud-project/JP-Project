{
 "cells": [
  {
   "cell_type": "code",
   "execution_count": 1,
   "metadata": {},
   "outputs": [
    {
     "name": "stderr",
     "output_type": "stream",
     "text": [
      "2025-02-21 14:57:15.917755: E external/local_xla/xla/stream_executor/cuda/cuda_fft.cc:485] Unable to register cuFFT factory: Attempting to register factory for plugin cuFFT when one has already been registered\n",
      "2025-02-21 14:57:15.928892: E external/local_xla/xla/stream_executor/cuda/cuda_dnn.cc:8454] Unable to register cuDNN factory: Attempting to register factory for plugin cuDNN when one has already been registered\n",
      "2025-02-21 14:57:15.932306: E external/local_xla/xla/stream_executor/cuda/cuda_blas.cc:1452] Unable to register cuBLAS factory: Attempting to register factory for plugin cuBLAS when one has already been registered\n",
      "2025-02-21 14:57:15.941680: I tensorflow/core/platform/cpu_feature_guard.cc:210] This TensorFlow binary is optimized to use available CPU instructions in performance-critical operations.\n",
      "To enable the following instructions: SSE4.1 SSE4.2 AVX AVX2 FMA, in other operations, rebuild TensorFlow with the appropriate compiler flags.\n"
     ]
    }
   ],
   "source": [
    "import numpy as np\n",
    "import pandas as pd\n",
    "import matplotlib.pyplot as plt\n",
    "from keras.models import *\n",
    "from keras.layers import *\n",
    "from sklearn.preprocessing import MinMaxScaler,StandardScaler\n",
    "import os\n",
    "os.makedirs('result', exist_ok=True)  # 创建result文件夹\n",
    "from sklearn.metrics import r2_score\n",
    "import warnings\n",
    "warnings.filterwarnings(\"ignore\") #指定忽略警告消息\n",
    "plt.rcParams['font.sans-serif'] = ['SimHei'] # 指定默认字体\n",
    "plt.rcParams['axes.unicode_minus'] = False # 解决保存图像是负号'-'显示为方块的问题\n",
    "import matplotlib.pyplot as plt\n",
    "from sklearn.metrics import mean_squared_error,mean_absolute_error\n",
    "from scipy.stats import mstats\n",
    "from keras.optimizers import Adam\n",
    "\n",
    "\n",
    "seed=42\n",
    "# Set the random seed for reproducibility\n",
    "np.random.seed(seed)  # For NumPy\n",
    "import random\n",
    "random.seed(seed)  # For Python's built-in random module\n",
    "\n",
    "# For TensorFlow/Keras\n",
    "import tensorflow as tf\n",
    "tf.random.set_seed(seed)  # For TensorFlow/Keras\n"
   ]
  },
  {
   "cell_type": "code",
   "execution_count": null,
   "metadata": {},
   "outputs": [],
   "source": [
    "\n",
    "x_data = pd.read_table('/home/rliuaj/balance_sheet/df_X',sep=',',index_col=0)\n",
    "x_data = x_data.drop(['Market Cap', 'Industry', 'City'],axis=1)\n",
    "y_data = pd.read_table('/home/rliuaj/balance_sheet/df_y',sep=',',index_col=0)\n",
    "x_data = x_data.interpolate()\n",
    "y_data = y_data.interpolate()"
   ]
  },
  {
   "cell_type": "code",
   "execution_count": null,
   "metadata": {},
   "outputs": [],
   "source": [
    "\n",
    "from sklearn.model_selection import train_test_split\n",
    "X_train, X_test, y_train, y_test = train_test_split(x_data, y_data, test_size=0.2, random_state=seed) # 20"
   ]
  },
  {
   "cell_type": "code",
   "execution_count": 4,
   "metadata": {},
   "outputs": [
    {
     "data": {
      "text/plain": [
       "new_stock\n",
       "GRC      3\n",
       "VIZIO    3\n",
       "KIMCO    3\n",
       "CBRE     3\n",
       "MAA      3\n",
       "        ..\n",
       "CENTA    1\n",
       "ROVR     1\n",
       "SAGE     1\n",
       "AIG      1\n",
       "TEL      1\n",
       "Name: count, Length: 627, dtype: int64"
      ]
     },
     "execution_count": 4,
     "metadata": {},
     "output_type": "execute_result"
    }
   ],
   "source": [
    "y_test['new_stock'].value_counts()"
   ]
  },
  {
   "cell_type": "code",
   "execution_count": 6,
   "metadata": {},
   "outputs": [
    {
     "data": {
      "text/html": [
       "<div>\n",
       "<style scoped>\n",
       "    .dataframe tbody tr th:only-of-type {\n",
       "        vertical-align: middle;\n",
       "    }\n",
       "\n",
       "    .dataframe tbody tr th {\n",
       "        vertical-align: top;\n",
       "    }\n",
       "\n",
       "    .dataframe thead th {\n",
       "        text-align: right;\n",
       "    }\n",
       "</style>\n",
       "<table border=\"1\" class=\"dataframe\">\n",
       "  <thead>\n",
       "    <tr style=\"text-align: right;\">\n",
       "      <th></th>\n",
       "      <th>Unnamed: 0</th>\n",
       "      <th>Current Assets</th>\n",
       "      <th>Total Non Current Assets</th>\n",
       "      <th>Current Liabilities</th>\n",
       "      <th>Total Non Current Liabilities Net Minority Interest</th>\n",
       "      <th>Stockholders Equity</th>\n",
       "      <th>new_stock</th>\n",
       "    </tr>\n",
       "  </thead>\n",
       "  <tbody>\n",
       "    <tr>\n",
       "      <th>1078</th>\n",
       "      <td>2023-12-31</td>\n",
       "      <td>2.811350e+09</td>\n",
       "      <td>1.115625e+10</td>\n",
       "      <td>2.013347e+09</td>\n",
       "      <td>5.752349e+09</td>\n",
       "      <td>6.149001e+09</td>\n",
       "      <td>ZS</td>\n",
       "    </tr>\n",
       "    <tr>\n",
       "      <th>1957</th>\n",
       "      <td>2021-12-31</td>\n",
       "      <td>1.082797e+07</td>\n",
       "      <td>2.371896e+06</td>\n",
       "      <td>6.039311e+06</td>\n",
       "      <td>2.962711e+06</td>\n",
       "      <td>4.197847e+06</td>\n",
       "      <td>APTIV</td>\n",
       "    </tr>\n",
       "    <tr>\n",
       "      <th>2694</th>\n",
       "      <td>2023-06-30</td>\n",
       "      <td>1.646807e+09</td>\n",
       "      <td>1.096525e+09</td>\n",
       "      <td>5.403440e+08</td>\n",
       "      <td>7.445510e+08</td>\n",
       "      <td>1.458437e+09</td>\n",
       "      <td>BANKS</td>\n",
       "    </tr>\n",
       "    <tr>\n",
       "      <th>2002</th>\n",
       "      <td>2021-12-31</td>\n",
       "      <td>8.972340e+08</td>\n",
       "      <td>5.069280e+08</td>\n",
       "      <td>3.782450e+08</td>\n",
       "      <td>6.362600e+07</td>\n",
       "      <td>9.622910e+08</td>\n",
       "      <td>ENVX</td>\n",
       "    </tr>\n",
       "    <tr>\n",
       "      <th>1213</th>\n",
       "      <td>2023-12-31</td>\n",
       "      <td>1.926967e+09</td>\n",
       "      <td>2.273419e+10</td>\n",
       "      <td>2.889347e+09</td>\n",
       "      <td>1.548694e+10</td>\n",
       "      <td>6.177664e+09</td>\n",
       "      <td>UHS</td>\n",
       "    </tr>\n",
       "    <tr>\n",
       "      <th>...</th>\n",
       "      <td>...</td>\n",
       "      <td>...</td>\n",
       "      <td>...</td>\n",
       "      <td>...</td>\n",
       "      <td>...</td>\n",
       "      <td>...</td>\n",
       "      <td>...</td>\n",
       "    </tr>\n",
       "    <tr>\n",
       "      <th>3129</th>\n",
       "      <td>2023-12-31</td>\n",
       "      <td>4.446971e+09</td>\n",
       "      <td>2.162750e+09</td>\n",
       "      <td>3.518355e+09</td>\n",
       "      <td>6.205510e+08</td>\n",
       "      <td>2.469778e+09</td>\n",
       "      <td>OSCAR</td>\n",
       "    </tr>\n",
       "    <tr>\n",
       "      <th>2287</th>\n",
       "      <td>2022-10-31</td>\n",
       "      <td>6.446520e+08</td>\n",
       "      <td>6.711780e+08</td>\n",
       "      <td>1.937970e+08</td>\n",
       "      <td>5.994400e+07</td>\n",
       "      <td>8.315270e+08</td>\n",
       "      <td>ACC</td>\n",
       "    </tr>\n",
       "    <tr>\n",
       "      <th>2567</th>\n",
       "      <td>2024-09-30</td>\n",
       "      <td>1.200544e+09</td>\n",
       "      <td>2.930964e+09</td>\n",
       "      <td>8.075290e+08</td>\n",
       "      <td>1.481164e+09</td>\n",
       "      <td>1.842815e+09</td>\n",
       "      <td>SEE</td>\n",
       "    </tr>\n",
       "    <tr>\n",
       "      <th>700</th>\n",
       "      <td>2024-05-31</td>\n",
       "      <td>3.185207e+09</td>\n",
       "      <td>5.983610e+09</td>\n",
       "      <td>1.828519e+09</td>\n",
       "      <td>3.023926e+09</td>\n",
       "      <td>4.316372e+09</td>\n",
       "      <td>TEL</td>\n",
       "    </tr>\n",
       "    <tr>\n",
       "      <th>839</th>\n",
       "      <td>2022-12-31</td>\n",
       "      <td>3.803000e+09</td>\n",
       "      <td>6.627500e+10</td>\n",
       "      <td>6.930000e+09</td>\n",
       "      <td>3.103400e+10</td>\n",
       "      <td>3.074200e+10</td>\n",
       "      <td>WFC</td>\n",
       "    </tr>\n",
       "  </tbody>\n",
       "</table>\n",
       "<p>764 rows × 7 columns</p>\n",
       "</div>"
      ],
      "text/plain": [
       "      Unnamed: 0  Current Assets  Total Non Current Assets  \\\n",
       "1078  2023-12-31    2.811350e+09              1.115625e+10   \n",
       "1957  2021-12-31    1.082797e+07              2.371896e+06   \n",
       "2694  2023-06-30    1.646807e+09              1.096525e+09   \n",
       "2002  2021-12-31    8.972340e+08              5.069280e+08   \n",
       "1213  2023-12-31    1.926967e+09              2.273419e+10   \n",
       "...          ...             ...                       ...   \n",
       "3129  2023-12-31    4.446971e+09              2.162750e+09   \n",
       "2287  2022-10-31    6.446520e+08              6.711780e+08   \n",
       "2567  2024-09-30    1.200544e+09              2.930964e+09   \n",
       "700   2024-05-31    3.185207e+09              5.983610e+09   \n",
       "839   2022-12-31    3.803000e+09              6.627500e+10   \n",
       "\n",
       "      Current Liabilities  \\\n",
       "1078         2.013347e+09   \n",
       "1957         6.039311e+06   \n",
       "2694         5.403440e+08   \n",
       "2002         3.782450e+08   \n",
       "1213         2.889347e+09   \n",
       "...                   ...   \n",
       "3129         3.518355e+09   \n",
       "2287         1.937970e+08   \n",
       "2567         8.075290e+08   \n",
       "700          1.828519e+09   \n",
       "839          6.930000e+09   \n",
       "\n",
       "      Total Non Current Liabilities Net Minority Interest  \\\n",
       "1078                                       5.752349e+09     \n",
       "1957                                       2.962711e+06     \n",
       "2694                                       7.445510e+08     \n",
       "2002                                       6.362600e+07     \n",
       "1213                                       1.548694e+10     \n",
       "...                                                 ...     \n",
       "3129                                       6.205510e+08     \n",
       "2287                                       5.994400e+07     \n",
       "2567                                       1.481164e+09     \n",
       "700                                        3.023926e+09     \n",
       "839                                        3.103400e+10     \n",
       "\n",
       "      Stockholders Equity new_stock  \n",
       "1078         6.149001e+09        ZS  \n",
       "1957         4.197847e+06     APTIV  \n",
       "2694         1.458437e+09     BANKS  \n",
       "2002         9.622910e+08      ENVX  \n",
       "1213         6.177664e+09       UHS  \n",
       "...                   ...       ...  \n",
       "3129         2.469778e+09     OSCAR  \n",
       "2287         8.315270e+08       ACC  \n",
       "2567         1.842815e+09       SEE  \n",
       "700          4.316372e+09       TEL  \n",
       "839          3.074200e+10       WFC  \n",
       "\n",
       "[764 rows x 7 columns]"
      ]
     },
     "execution_count": 6,
     "metadata": {},
     "output_type": "execute_result"
    }
   ],
   "source": [
    "y_test"
   ]
  },
  {
   "cell_type": "code",
   "execution_count": 39,
   "metadata": {},
   "outputs": [],
   "source": [
    "pred=pd.read_csv('result/Transformer_y_pred.csv')\n",
    "pred.index=y_test.index\n",
    "pred.columns=y_test.columns[:-1]\n",
    "pred_concat=pd.read_csv('result/Transformer_y_pred_concat.csv')\n",
    "pred_concat.index=y_test.index\n",
    "pred_concat.columns=y_test.columns[:-1]"
   ]
  },
  {
   "cell_type": "code",
   "execution_count": 10,
   "metadata": {},
   "outputs": [
    {
     "data": {
      "text/html": [
       "<div>\n",
       "<style scoped>\n",
       "    .dataframe tbody tr th:only-of-type {\n",
       "        vertical-align: middle;\n",
       "    }\n",
       "\n",
       "    .dataframe tbody tr th {\n",
       "        vertical-align: top;\n",
       "    }\n",
       "\n",
       "    .dataframe thead th {\n",
       "        text-align: right;\n",
       "    }\n",
       "</style>\n",
       "<table border=\"1\" class=\"dataframe\">\n",
       "  <thead>\n",
       "    <tr style=\"text-align: right;\">\n",
       "      <th></th>\n",
       "      <th>Unnamed: 0</th>\n",
       "      <th>Current Assets</th>\n",
       "      <th>Total Non Current Assets</th>\n",
       "      <th>Current Liabilities</th>\n",
       "      <th>Total Non Current Liabilities Net Minority Interest</th>\n",
       "      <th>Stockholders Equity</th>\n",
       "    </tr>\n",
       "  </thead>\n",
       "  <tbody>\n",
       "    <tr>\n",
       "      <th>1078</th>\n",
       "      <td>0</td>\n",
       "      <td>3.266728e+09</td>\n",
       "      <td>9.541004e+09</td>\n",
       "      <td>2.729232e+09</td>\n",
       "      <td>5.612189e+09</td>\n",
       "      <td>4.317826e+09</td>\n",
       "    </tr>\n",
       "    <tr>\n",
       "      <th>1957</th>\n",
       "      <td>1</td>\n",
       "      <td>2.530697e+08</td>\n",
       "      <td>7.209217e+08</td>\n",
       "      <td>2.113218e+08</td>\n",
       "      <td>4.276749e+08</td>\n",
       "      <td>3.246753e+08</td>\n",
       "    </tr>\n",
       "    <tr>\n",
       "      <th>2694</th>\n",
       "      <td>2</td>\n",
       "      <td>5.849562e+08</td>\n",
       "      <td>1.708467e+09</td>\n",
       "      <td>4.887083e+08</td>\n",
       "      <td>1.004947e+09</td>\n",
       "      <td>7.731804e+08</td>\n",
       "    </tr>\n",
       "    <tr>\n",
       "      <th>2002</th>\n",
       "      <td>3</td>\n",
       "      <td>3.016092e+08</td>\n",
       "      <td>8.809089e+08</td>\n",
       "      <td>2.519835e+08</td>\n",
       "      <td>5.181675e+08</td>\n",
       "      <td>3.986579e+08</td>\n",
       "    </tr>\n",
       "    <tr>\n",
       "      <th>1213</th>\n",
       "      <td>4</td>\n",
       "      <td>5.943502e+09</td>\n",
       "      <td>1.735911e+10</td>\n",
       "      <td>4.965553e+09</td>\n",
       "      <td>1.021096e+10</td>\n",
       "      <td>7.855934e+09</td>\n",
       "    </tr>\n",
       "  </tbody>\n",
       "</table>\n",
       "</div>"
      ],
      "text/plain": [
       "      Unnamed: 0  Current Assets  Total Non Current Assets  \\\n",
       "1078           0    3.266728e+09              9.541004e+09   \n",
       "1957           1    2.530697e+08              7.209217e+08   \n",
       "2694           2    5.849562e+08              1.708467e+09   \n",
       "2002           3    3.016092e+08              8.809089e+08   \n",
       "1213           4    5.943502e+09              1.735911e+10   \n",
       "\n",
       "      Current Liabilities  \\\n",
       "1078         2.729232e+09   \n",
       "1957         2.113218e+08   \n",
       "2694         4.887083e+08   \n",
       "2002         2.519835e+08   \n",
       "1213         4.965553e+09   \n",
       "\n",
       "      Total Non Current Liabilities Net Minority Interest  Stockholders Equity  \n",
       "1078                                       5.612189e+09           4.317826e+09  \n",
       "1957                                       4.276749e+08           3.246753e+08  \n",
       "2694                                       1.004947e+09           7.731804e+08  \n",
       "2002                                       5.181675e+08           3.986579e+08  \n",
       "1213                                       1.021096e+10           7.855934e+09  "
      ]
     },
     "execution_count": 10,
     "metadata": {},
     "output_type": "execute_result"
    }
   ],
   "source": [
    "pred.head()"
   ]
  },
  {
   "cell_type": "code",
   "execution_count": 40,
   "metadata": {},
   "outputs": [],
   "source": [
    "pred.index=y_test.index\n",
    "pred_concat.index=y_test.index"
   ]
  },
  {
   "cell_type": "code",
   "execution_count": 65,
   "metadata": {},
   "outputs": [
    {
     "data": {
      "text/plain": [
       "1078      0.196900\n",
       "1957    115.800388\n",
       "2694      0.423604\n",
       "2002      1.893015\n",
       "1213      0.730345\n",
       "           ...    \n",
       "3129      0.905320\n",
       "2287      2.154061\n",
       "2567      0.159529\n",
       "700       0.197094\n",
       "839       1.068626\n",
       "Length: 764, dtype: float64"
      ]
     },
     "execution_count": 65,
     "metadata": {},
     "output_type": "execute_result"
    }
   ],
   "source": [
    "mape = np.mean(np.abs((y_test.iloc[:,1:-1] - pred.iloc[:,1:]) / y_test.iloc[:,1:-1]), axis=1)\n",
    "mape"
   ]
  },
  {
   "cell_type": "code",
   "execution_count": 96,
   "metadata": {},
   "outputs": [
    {
     "data": {
      "text/html": [
       "<div>\n",
       "<style scoped>\n",
       "    .dataframe tbody tr th:only-of-type {\n",
       "        vertical-align: middle;\n",
       "    }\n",
       "\n",
       "    .dataframe tbody tr th {\n",
       "        vertical-align: top;\n",
       "    }\n",
       "\n",
       "    .dataframe thead th {\n",
       "        text-align: right;\n",
       "    }\n",
       "</style>\n",
       "<table border=\"1\" class=\"dataframe\">\n",
       "  <thead>\n",
       "    <tr style=\"text-align: right;\">\n",
       "      <th></th>\n",
       "      <th>Unnamed: 0</th>\n",
       "      <th>Current Assets</th>\n",
       "      <th>Total Non Current Assets</th>\n",
       "      <th>Current Liabilities</th>\n",
       "      <th>Total Non Current Liabilities Net Minority Interest</th>\n",
       "      <th>Stockholders Equity</th>\n",
       "      <th>new_stock</th>\n",
       "    </tr>\n",
       "  </thead>\n",
       "  <tbody>\n",
       "    <tr>\n",
       "      <th>2014</th>\n",
       "      <td>2021-12-31</td>\n",
       "      <td>1.171790e+09</td>\n",
       "      <td>3.814473e+09</td>\n",
       "      <td>941611000.0</td>\n",
       "      <td>2.060976e+09</td>\n",
       "      <td>1.983676e+09</td>\n",
       "      <td>EQRX</td>\n",
       "    </tr>\n",
       "  </tbody>\n",
       "</table>\n",
       "</div>"
      ],
      "text/plain": [
       "      Unnamed: 0  Current Assets  Total Non Current Assets  \\\n",
       "2014  2021-12-31    1.171790e+09              3.814473e+09   \n",
       "\n",
       "      Current Liabilities  \\\n",
       "2014          941611000.0   \n",
       "\n",
       "      Total Non Current Liabilities Net Minority Interest  \\\n",
       "2014                                       2.060976e+09     \n",
       "\n",
       "      Stockholders Equity new_stock  \n",
       "2014         1.983676e+09      EQRX  "
      ]
     },
     "execution_count": 96,
     "metadata": {},
     "output_type": "execute_result"
    }
   ],
   "source": [
    "name='EQRX'\n",
    "y_test.loc[y_test['new_stock']==name]"
   ]
  },
  {
   "cell_type": "code",
   "execution_count": 97,
   "metadata": {},
   "outputs": [
    {
     "data": {
      "text/html": [
       "<div>\n",
       "<style scoped>\n",
       "    .dataframe tbody tr th:only-of-type {\n",
       "        vertical-align: middle;\n",
       "    }\n",
       "\n",
       "    .dataframe tbody tr th {\n",
       "        vertical-align: top;\n",
       "    }\n",
       "\n",
       "    .dataframe thead th {\n",
       "        text-align: right;\n",
       "    }\n",
       "</style>\n",
       "<table border=\"1\" class=\"dataframe\">\n",
       "  <thead>\n",
       "    <tr style=\"text-align: right;\">\n",
       "      <th></th>\n",
       "      <th>Unnamed: 0</th>\n",
       "      <th>Current Assets</th>\n",
       "      <th>Total Non Current Assets</th>\n",
       "      <th>Current Liabilities</th>\n",
       "      <th>Total Non Current Liabilities Net Minority Interest</th>\n",
       "      <th>Stockholders Equity</th>\n",
       "    </tr>\n",
       "  </thead>\n",
       "  <tbody>\n",
       "    <tr>\n",
       "      <th>2014</th>\n",
       "      <td>95</td>\n",
       "      <td>1.249237e+09</td>\n",
       "      <td>3.648690e+09</td>\n",
       "      <td>1.043688e+09</td>\n",
       "      <td>2.146240e+09</td>\n",
       "      <td>1.651214e+09</td>\n",
       "    </tr>\n",
       "  </tbody>\n",
       "</table>\n",
       "</div>"
      ],
      "text/plain": [
       "      Unnamed: 0  Current Assets  Total Non Current Assets  \\\n",
       "2014          95    1.249237e+09              3.648690e+09   \n",
       "\n",
       "      Current Liabilities  \\\n",
       "2014         1.043688e+09   \n",
       "\n",
       "      Total Non Current Liabilities Net Minority Interest  Stockholders Equity  \n",
       "2014                                       2.146240e+09           1.651214e+09  "
      ]
     },
     "execution_count": 97,
     "metadata": {},
     "output_type": "execute_result"
    }
   ],
   "source": [
    "li=y_test.loc[y_test['new_stock']==name].index\n",
    "pred.loc[li,:]"
   ]
  },
  {
   "cell_type": "code",
   "execution_count": 66,
   "metadata": {},
   "outputs": [
    {
     "data": {
      "text/plain": [
       "0.08538616412196702"
      ]
     },
     "execution_count": 66,
     "metadata": {},
     "output_type": "execute_result"
    }
   ],
   "source": [
    "mape[2014]"
   ]
  },
  {
   "cell_type": "code",
   "execution_count": 63,
   "metadata": {},
   "outputs": [
    {
     "data": {
      "text/plain": [
       "0.9884061860858496"
      ]
     },
     "execution_count": 63,
     "metadata": {},
     "output_type": "execute_result"
    }
   ],
   "source": [
    "r=pred.loc[li,:].iloc[:,3:].values.sum()/pred.loc[li,:].iloc[:,1:3].values.sum()\n",
    "r"
   ]
  },
  {
   "cell_type": "code",
   "execution_count": 64,
   "metadata": {},
   "outputs": [
    {
     "data": {
      "text/html": [
       "<div>\n",
       "<style scoped>\n",
       "    .dataframe tbody tr th:only-of-type {\n",
       "        vertical-align: middle;\n",
       "    }\n",
       "\n",
       "    .dataframe tbody tr th {\n",
       "        vertical-align: top;\n",
       "    }\n",
       "\n",
       "    .dataframe thead th {\n",
       "        text-align: right;\n",
       "    }\n",
       "</style>\n",
       "<table border=\"1\" class=\"dataframe\">\n",
       "  <thead>\n",
       "    <tr style=\"text-align: right;\">\n",
       "      <th></th>\n",
       "      <th>Current Assets</th>\n",
       "      <th>Total Non Current Assets</th>\n",
       "    </tr>\n",
       "  </thead>\n",
       "  <tbody>\n",
       "    <tr>\n",
       "      <th>2014</th>\n",
       "      <td>1.234754e+09</td>\n",
       "      <td>3.606388e+09</td>\n",
       "    </tr>\n",
       "  </tbody>\n",
       "</table>\n",
       "</div>"
      ],
      "text/plain": [
       "      Current Assets  Total Non Current Assets\n",
       "2014    1.234754e+09              3.606388e+09"
      ]
     },
     "execution_count": 64,
     "metadata": {},
     "output_type": "execute_result"
    }
   ],
   "source": [
    "pred.loc[li,:].iloc[:,1:3]*r"
   ]
  },
  {
   "cell_type": "code",
   "execution_count": 80,
   "metadata": {},
   "outputs": [
    {
     "data": {
      "text/html": [
       "<div>\n",
       "<style scoped>\n",
       "    .dataframe tbody tr th:only-of-type {\n",
       "        vertical-align: middle;\n",
       "    }\n",
       "\n",
       "    .dataframe tbody tr th {\n",
       "        vertical-align: top;\n",
       "    }\n",
       "\n",
       "    .dataframe thead th {\n",
       "        text-align: right;\n",
       "    }\n",
       "</style>\n",
       "<table border=\"1\" class=\"dataframe\">\n",
       "  <thead>\n",
       "    <tr style=\"text-align: right;\">\n",
       "      <th></th>\n",
       "      <th>Current Assets</th>\n",
       "      <th>Total Non Current Assets</th>\n",
       "      <th>Current Liabilities</th>\n",
       "      <th>Total Non Current Liabilities Net Minority Interest</th>\n",
       "      <th>Stockholders Equity</th>\n",
       "    </tr>\n",
       "  </thead>\n",
       "  <tbody>\n",
       "    <tr>\n",
       "      <th>2014</th>\n",
       "      <td>1.234754e+09</td>\n",
       "      <td>3.606388e+09</td>\n",
       "      <td>1.043688e+09</td>\n",
       "      <td>2.146240e+09</td>\n",
       "      <td>1.651214e+09</td>\n",
       "    </tr>\n",
       "  </tbody>\n",
       "</table>\n",
       "</div>"
      ],
      "text/plain": [
       "      Current Assets  Total Non Current Assets  Current Liabilities  \\\n",
       "2014    1.234754e+09              3.606388e+09         1.043688e+09   \n",
       "\n",
       "      Total Non Current Liabilities Net Minority Interest  Stockholders Equity  \n",
       "2014                                       2.146240e+09           1.651214e+09  "
      ]
     },
     "execution_count": 80,
     "metadata": {},
     "output_type": "execute_result"
    }
   ],
   "source": [
    "merged_result = pd.concat([pred.loc[li,:].iloc[:,1:3]*r, pred.loc[li, :].iloc[:, 3:]], axis=1)\n",
    "merged_result"
   ]
  },
  {
   "cell_type": "code",
   "execution_count": 82,
   "metadata": {},
   "outputs": [
    {
     "data": {
      "text/plain": [
       "0.08513213332917313"
      ]
     },
     "execution_count": 82,
     "metadata": {},
     "output_type": "execute_result"
    }
   ],
   "source": [
    "mape_new = np.mean(np.abs((y_test.iloc[:,1:-1] - merged_result) / y_test.iloc[:,1:-1]), axis=1)\n",
    "mape_new[2014]"
   ]
  },
  {
   "cell_type": "code",
   "execution_count": null,
   "metadata": {},
   "outputs": [],
   "source": []
  },
  {
   "cell_type": "code",
   "execution_count": 98,
   "metadata": {},
   "outputs": [
    {
     "data": {
      "text/html": [
       "<div>\n",
       "<style scoped>\n",
       "    .dataframe tbody tr th:only-of-type {\n",
       "        vertical-align: middle;\n",
       "    }\n",
       "\n",
       "    .dataframe tbody tr th {\n",
       "        vertical-align: top;\n",
       "    }\n",
       "\n",
       "    .dataframe thead th {\n",
       "        text-align: right;\n",
       "    }\n",
       "</style>\n",
       "<table border=\"1\" class=\"dataframe\">\n",
       "  <thead>\n",
       "    <tr style=\"text-align: right;\">\n",
       "      <th></th>\n",
       "      <th>Unnamed: 0</th>\n",
       "      <th>Current Assets</th>\n",
       "      <th>Total Non Current Assets</th>\n",
       "      <th>Current Liabilities</th>\n",
       "      <th>Total Non Current Liabilities Net Minority Interest</th>\n",
       "      <th>Stockholders Equity</th>\n",
       "    </tr>\n",
       "  </thead>\n",
       "  <tbody>\n",
       "    <tr>\n",
       "      <th>2014</th>\n",
       "      <td>95</td>\n",
       "      <td>1.264398e+09</td>\n",
       "      <td>3.572197e+09</td>\n",
       "      <td>1.032301e+09</td>\n",
       "      <td>2.110884e+09</td>\n",
       "      <td>1.647570e+09</td>\n",
       "    </tr>\n",
       "  </tbody>\n",
       "</table>\n",
       "</div>"
      ],
      "text/plain": [
       "      Unnamed: 0  Current Assets  Total Non Current Assets  \\\n",
       "2014          95    1.264398e+09              3.572197e+09   \n",
       "\n",
       "      Current Liabilities  \\\n",
       "2014         1.032301e+09   \n",
       "\n",
       "      Total Non Current Liabilities Net Minority Interest  Stockholders Equity  \n",
       "2014                                       2.110884e+09           1.647570e+09  "
      ]
     },
     "execution_count": 98,
     "metadata": {},
     "output_type": "execute_result"
    }
   ],
   "source": [
    "li=y_test.loc[y_test['new_stock']==name].index\n",
    "pred_concat.loc[li,:]"
   ]
  },
  {
   "cell_type": "code",
   "execution_count": 99,
   "metadata": {},
   "outputs": [
    {
     "data": {
      "text/plain": [
       "0.08650243456405322"
      ]
     },
     "execution_count": 99,
     "metadata": {},
     "output_type": "execute_result"
    }
   ],
   "source": [
    "mape_concat[2014]"
   ]
  },
  {
   "cell_type": "code",
   "execution_count": 100,
   "metadata": {},
   "outputs": [
    {
     "data": {
      "text/plain": [
       "0.9905221754039324"
      ]
     },
     "execution_count": 100,
     "metadata": {},
     "output_type": "execute_result"
    }
   ],
   "source": [
    "r=pred_concat.loc[li,:].iloc[:,3:].values.sum()/pred_concat.loc[li,:].iloc[:,1:3].values.sum()\n",
    "r"
   ]
  },
  {
   "cell_type": "code",
   "execution_count": 101,
   "metadata": {},
   "outputs": [
    {
     "data": {
      "text/html": [
       "<div>\n",
       "<style scoped>\n",
       "    .dataframe tbody tr th:only-of-type {\n",
       "        vertical-align: middle;\n",
       "    }\n",
       "\n",
       "    .dataframe tbody tr th {\n",
       "        vertical-align: top;\n",
       "    }\n",
       "\n",
       "    .dataframe thead th {\n",
       "        text-align: right;\n",
       "    }\n",
       "</style>\n",
       "<table border=\"1\" class=\"dataframe\">\n",
       "  <thead>\n",
       "    <tr style=\"text-align: right;\">\n",
       "      <th></th>\n",
       "      <th>Current Assets</th>\n",
       "      <th>Total Non Current Assets</th>\n",
       "      <th>Current Liabilities</th>\n",
       "      <th>Total Non Current Liabilities Net Minority Interest</th>\n",
       "      <th>Stockholders Equity</th>\n",
       "    </tr>\n",
       "  </thead>\n",
       "  <tbody>\n",
       "    <tr>\n",
       "      <th>2014</th>\n",
       "      <td>1.252415e+09</td>\n",
       "      <td>3.538340e+09</td>\n",
       "      <td>1.032301e+09</td>\n",
       "      <td>2.110884e+09</td>\n",
       "      <td>1.647570e+09</td>\n",
       "    </tr>\n",
       "  </tbody>\n",
       "</table>\n",
       "</div>"
      ],
      "text/plain": [
       "      Current Assets  Total Non Current Assets  Current Liabilities  \\\n",
       "2014    1.252415e+09              3.538340e+09         1.032301e+09   \n",
       "\n",
       "      Total Non Current Liabilities Net Minority Interest  Stockholders Equity  \n",
       "2014                                       2.110884e+09           1.647570e+09  "
      ]
     },
     "execution_count": 101,
     "metadata": {},
     "output_type": "execute_result"
    }
   ],
   "source": [
    "merged_result = pd.concat([pred_concat.loc[li,:].iloc[:,1:3]*r, pred_concat.loc[li, :].iloc[:, 3:]], axis=1)\n",
    "merged_result"
   ]
  },
  {
   "cell_type": "code",
   "execution_count": 102,
   "metadata": {},
   "outputs": [
    {
     "data": {
      "text/plain": [
       "0.08623222805710565"
      ]
     },
     "execution_count": 102,
     "metadata": {},
     "output_type": "execute_result"
    }
   ],
   "source": [
    "mape_new_concat = np.mean(np.abs((y_test.iloc[:,1:-1] - merged_result) / y_test.iloc[:,1:-1]), axis=1)\n",
    "mape_new_concat[2014]"
   ]
  },
  {
   "cell_type": "code",
   "execution_count": null,
   "metadata": {},
   "outputs": [],
   "source": []
  },
  {
   "cell_type": "code",
   "execution_count": null,
   "metadata": {},
   "outputs": [],
   "source": []
  },
  {
   "cell_type": "code",
   "execution_count": null,
   "metadata": {},
   "outputs": [],
   "source": []
  },
  {
   "cell_type": "code",
   "execution_count": null,
   "metadata": {},
   "outputs": [],
   "source": []
  },
  {
   "cell_type": "code",
   "execution_count": null,
   "metadata": {},
   "outputs": [],
   "source": []
  },
  {
   "cell_type": "code",
   "execution_count": null,
   "metadata": {},
   "outputs": [],
   "source": []
  },
  {
   "cell_type": "code",
   "execution_count": null,
   "metadata": {},
   "outputs": [],
   "source": []
  },
  {
   "cell_type": "code",
   "execution_count": 52,
   "metadata": {},
   "outputs": [
    {
     "data": {
      "text/html": [
       "<div>\n",
       "<style scoped>\n",
       "    .dataframe tbody tr th:only-of-type {\n",
       "        vertical-align: middle;\n",
       "    }\n",
       "\n",
       "    .dataframe tbody tr th {\n",
       "        vertical-align: top;\n",
       "    }\n",
       "\n",
       "    .dataframe thead th {\n",
       "        text-align: right;\n",
       "    }\n",
       "</style>\n",
       "<table border=\"1\" class=\"dataframe\">\n",
       "  <thead>\n",
       "    <tr style=\"text-align: right;\">\n",
       "      <th></th>\n",
       "      <th>Unnamed: 0</th>\n",
       "      <th>Current Assets</th>\n",
       "      <th>Total Non Current Assets</th>\n",
       "      <th>Current Liabilities</th>\n",
       "      <th>Total Non Current Liabilities Net Minority Interest</th>\n",
       "      <th>Stockholders Equity</th>\n",
       "    </tr>\n",
       "  </thead>\n",
       "  <tbody>\n",
       "    <tr>\n",
       "      <th>2014</th>\n",
       "      <td>95</td>\n",
       "      <td>1.264398e+09</td>\n",
       "      <td>3.572197e+09</td>\n",
       "      <td>1.032301e+09</td>\n",
       "      <td>2.110884e+09</td>\n",
       "      <td>1.647570e+09</td>\n",
       "    </tr>\n",
       "  </tbody>\n",
       "</table>\n",
       "</div>"
      ],
      "text/plain": [
       "      Unnamed: 0  Current Assets  Total Non Current Assets  \\\n",
       "2014          95    1.264398e+09              3.572197e+09   \n",
       "\n",
       "      Current Liabilities  \\\n",
       "2014         1.032301e+09   \n",
       "\n",
       "      Total Non Current Liabilities Net Minority Interest  Stockholders Equity  \n",
       "2014                                       2.110884e+09           1.647570e+09  "
      ]
     },
     "execution_count": 52,
     "metadata": {},
     "output_type": "execute_result"
    }
   ],
   "source": [
    "pred_concat.loc[li,:]"
   ]
  },
  {
   "cell_type": "code",
   "execution_count": 48,
   "metadata": {},
   "outputs": [
    {
     "data": {
      "text/html": [
       "<div>\n",
       "<style scoped>\n",
       "    .dataframe tbody tr th:only-of-type {\n",
       "        vertical-align: middle;\n",
       "    }\n",
       "\n",
       "    .dataframe tbody tr th {\n",
       "        vertical-align: top;\n",
       "    }\n",
       "\n",
       "    .dataframe thead th {\n",
       "        text-align: right;\n",
       "    }\n",
       "</style>\n",
       "<table border=\"1\" class=\"dataframe\">\n",
       "  <thead>\n",
       "    <tr style=\"text-align: right;\">\n",
       "      <th></th>\n",
       "      <th>Unnamed: 0</th>\n",
       "      <th>Current Assets</th>\n",
       "      <th>Total Non Current Assets</th>\n",
       "      <th>Current Liabilities</th>\n",
       "      <th>Total Non Current Liabilities Net Minority Interest</th>\n",
       "      <th>Stockholders Equity</th>\n",
       "    </tr>\n",
       "  </thead>\n",
       "  <tbody>\n",
       "    <tr>\n",
       "      <th>1078</th>\n",
       "      <td>0</td>\n",
       "      <td>3.173491e+09</td>\n",
       "      <td>8.965812e+09</td>\n",
       "      <td>2.591010e+09</td>\n",
       "      <td>5.298065e+09</td>\n",
       "      <td>4.135165e+09</td>\n",
       "    </tr>\n",
       "    <tr>\n",
       "      <th>1957</th>\n",
       "      <td>1</td>\n",
       "      <td>8.072168e+08</td>\n",
       "      <td>4.582965e+08</td>\n",
       "      <td>2.405505e+08</td>\n",
       "      <td>3.207539e+08</td>\n",
       "      <td>7.000295e+08</td>\n",
       "    </tr>\n",
       "    <tr>\n",
       "      <th>2694</th>\n",
       "      <td>2</td>\n",
       "      <td>5.154414e+08</td>\n",
       "      <td>1.456251e+09</td>\n",
       "      <td>4.208303e+08</td>\n",
       "      <td>8.605343e+08</td>\n",
       "      <td>6.716404e+08</td>\n",
       "    </tr>\n",
       "    <tr>\n",
       "      <th>2002</th>\n",
       "      <td>3</td>\n",
       "      <td>3.155868e+08</td>\n",
       "      <td>8.915942e+08</td>\n",
       "      <td>2.576620e+08</td>\n",
       "      <td>5.268606e+08</td>\n",
       "      <td>4.112179e+08</td>\n",
       "    </tr>\n",
       "    <tr>\n",
       "      <th>1213</th>\n",
       "      <td>4</td>\n",
       "      <td>5.762717e+09</td>\n",
       "      <td>1.628111e+10</td>\n",
       "      <td>4.704956e+09</td>\n",
       "      <td>9.620827e+09</td>\n",
       "      <td>7.509108e+09</td>\n",
       "    </tr>\n",
       "    <tr>\n",
       "      <th>...</th>\n",
       "      <td>...</td>\n",
       "      <td>...</td>\n",
       "      <td>...</td>\n",
       "      <td>...</td>\n",
       "      <td>...</td>\n",
       "      <td>...</td>\n",
       "    </tr>\n",
       "    <tr>\n",
       "      <th>3129</th>\n",
       "      <td>759</td>\n",
       "      <td>9.905800e+08</td>\n",
       "      <td>2.798580e+09</td>\n",
       "      <td>8.087504e+08</td>\n",
       "      <td>1.653736e+09</td>\n",
       "      <td>1.290758e+09</td>\n",
       "    </tr>\n",
       "    <tr>\n",
       "      <th>2287</th>\n",
       "      <td>760</td>\n",
       "      <td>3.479171e+08</td>\n",
       "      <td>9.829454e+08</td>\n",
       "      <td>2.840579e+08</td>\n",
       "      <td>5.808428e+08</td>\n",
       "      <td>4.533475e+08</td>\n",
       "    </tr>\n",
       "    <tr>\n",
       "      <th>2567</th>\n",
       "      <td>761</td>\n",
       "      <td>8.718634e+08</td>\n",
       "      <td>2.463196e+09</td>\n",
       "      <td>7.118220e+08</td>\n",
       "      <td>1.455552e+09</td>\n",
       "      <td>1.136073e+09</td>\n",
       "    </tr>\n",
       "    <tr>\n",
       "      <th>700</th>\n",
       "      <td>762</td>\n",
       "      <td>1.890381e+09</td>\n",
       "      <td>5.340786e+09</td>\n",
       "      <td>1.543389e+09</td>\n",
       "      <td>3.155977e+09</td>\n",
       "      <td>2.463265e+09</td>\n",
       "    </tr>\n",
       "    <tr>\n",
       "      <th>839</th>\n",
       "      <td>763</td>\n",
       "      <td>1.754835e+10</td>\n",
       "      <td>4.957762e+10</td>\n",
       "      <td>1.432732e+10</td>\n",
       "      <td>2.929652e+10</td>\n",
       "      <td>2.286598e+10</td>\n",
       "    </tr>\n",
       "  </tbody>\n",
       "</table>\n",
       "<p>764 rows × 6 columns</p>\n",
       "</div>"
      ],
      "text/plain": [
       "      Unnamed: 0  Current Assets  Total Non Current Assets  \\\n",
       "1078           0    3.173491e+09              8.965812e+09   \n",
       "1957           1    8.072168e+08              4.582965e+08   \n",
       "2694           2    5.154414e+08              1.456251e+09   \n",
       "2002           3    3.155868e+08              8.915942e+08   \n",
       "1213           4    5.762717e+09              1.628111e+10   \n",
       "...          ...             ...                       ...   \n",
       "3129         759    9.905800e+08              2.798580e+09   \n",
       "2287         760    3.479171e+08              9.829454e+08   \n",
       "2567         761    8.718634e+08              2.463196e+09   \n",
       "700          762    1.890381e+09              5.340786e+09   \n",
       "839          763    1.754835e+10              4.957762e+10   \n",
       "\n",
       "      Current Liabilities  \\\n",
       "1078         2.591010e+09   \n",
       "1957         2.405505e+08   \n",
       "2694         4.208303e+08   \n",
       "2002         2.576620e+08   \n",
       "1213         4.704956e+09   \n",
       "...                   ...   \n",
       "3129         8.087504e+08   \n",
       "2287         2.840579e+08   \n",
       "2567         7.118220e+08   \n",
       "700          1.543389e+09   \n",
       "839          1.432732e+10   \n",
       "\n",
       "      Total Non Current Liabilities Net Minority Interest  Stockholders Equity  \n",
       "1078                                       5.298065e+09           4.135165e+09  \n",
       "1957                                       3.207539e+08           7.000295e+08  \n",
       "2694                                       8.605343e+08           6.716404e+08  \n",
       "2002                                       5.268606e+08           4.112179e+08  \n",
       "1213                                       9.620827e+09           7.509108e+09  \n",
       "...                                                 ...                    ...  \n",
       "3129                                       1.653736e+09           1.290758e+09  \n",
       "2287                                       5.808428e+08           4.533475e+08  \n",
       "2567                                       1.455552e+09           1.136073e+09  \n",
       "700                                        3.155977e+09           2.463265e+09  \n",
       "839                                        2.929652e+10           2.286598e+10  \n",
       "\n",
       "[764 rows x 6 columns]"
      ]
     },
     "execution_count": 48,
     "metadata": {},
     "output_type": "execute_result"
    }
   ],
   "source": [
    "pred_concat"
   ]
  },
  {
   "cell_type": "code",
   "execution_count": null,
   "metadata": {},
   "outputs": [
    {
     "data": {
      "text/html": [
       "<div>\n",
       "<style scoped>\n",
       "    .dataframe tbody tr th:only-of-type {\n",
       "        vertical-align: middle;\n",
       "    }\n",
       "\n",
       "    .dataframe tbody tr th {\n",
       "        vertical-align: top;\n",
       "    }\n",
       "\n",
       "    .dataframe thead th {\n",
       "        text-align: right;\n",
       "    }\n",
       "</style>\n",
       "<table border=\"1\" class=\"dataframe\">\n",
       "  <thead>\n",
       "    <tr style=\"text-align: right;\">\n",
       "      <th></th>\n",
       "      <th>Unnamed: 0</th>\n",
       "      <th>Current Assets</th>\n",
       "      <th>Total Non Current Assets</th>\n",
       "      <th>Current Liabilities</th>\n",
       "      <th>Total Non Current Liabilities Net Minority Interest</th>\n",
       "      <th>Stockholders Equity</th>\n",
       "      <th>new_stock</th>\n",
       "    </tr>\n",
       "  </thead>\n",
       "  <tbody>\n",
       "    <tr>\n",
       "      <th>3757</th>\n",
       "      <td>2022-12-31</td>\n",
       "      <td>434982000.0</td>\n",
       "      <td>52947000.0</td>\n",
       "      <td>12584000.0</td>\n",
       "      <td>28352000.0</td>\n",
       "      <td>446993000.0</td>\n",
       "      <td>INTRA</td>\n",
       "    </tr>\n",
       "    <tr>\n",
       "      <th>3758</th>\n",
       "      <td>2021-12-31</td>\n",
       "      <td>411699000.0</td>\n",
       "      <td>127440000.0</td>\n",
       "      <td>13423000.0</td>\n",
       "      <td>22800000.0</td>\n",
       "      <td>502916000.0</td>\n",
       "      <td>INTRA</td>\n",
       "    </tr>\n",
       "  </tbody>\n",
       "</table>\n",
       "</div>"
      ],
      "text/plain": [
       "      Unnamed: 0  Current Assets  Total Non Current Assets  \\\n",
       "3757  2022-12-31     434982000.0                52947000.0   \n",
       "3758  2021-12-31     411699000.0               127440000.0   \n",
       "\n",
       "      Current Liabilities  \\\n",
       "3757           12584000.0   \n",
       "3758           13423000.0   \n",
       "\n",
       "      Total Non Current Liabilities Net Minority Interest  \\\n",
       "3757                                         28352000.0     \n",
       "3758                                         22800000.0     \n",
       "\n",
       "      Stockholders Equity new_stock  \n",
       "3757          446993000.0     INTRA  \n",
       "3758          502916000.0     INTRA  "
      ]
     },
     "execution_count": 37,
     "metadata": {},
     "output_type": "execute_result"
    }
   ],
   "source": [
    "y_test.loc[y_test['new_stock']==stocks_with_two_occurrences[5]]"
   ]
  },
  {
   "cell_type": "code",
   "execution_count": 38,
   "metadata": {},
   "outputs": [
    {
     "data": {
      "text/html": [
       "<div>\n",
       "<style scoped>\n",
       "    .dataframe tbody tr th:only-of-type {\n",
       "        vertical-align: middle;\n",
       "    }\n",
       "\n",
       "    .dataframe tbody tr th {\n",
       "        vertical-align: top;\n",
       "    }\n",
       "\n",
       "    .dataframe thead th {\n",
       "        text-align: right;\n",
       "    }\n",
       "</style>\n",
       "<table border=\"1\" class=\"dataframe\">\n",
       "  <thead>\n",
       "    <tr style=\"text-align: right;\">\n",
       "      <th></th>\n",
       "      <th>Unnamed: 0</th>\n",
       "      <th>0</th>\n",
       "      <th>1</th>\n",
       "      <th>2</th>\n",
       "      <th>3</th>\n",
       "      <th>4</th>\n",
       "    </tr>\n",
       "  </thead>\n",
       "  <tbody>\n",
       "    <tr>\n",
       "      <th>3757</th>\n",
       "      <td>131</td>\n",
       "      <td>64159644.0</td>\n",
       "      <td>187391840.0</td>\n",
       "      <td>53602772.0</td>\n",
       "      <td>110226940.0</td>\n",
       "      <td>84805370.0</td>\n",
       "    </tr>\n",
       "    <tr>\n",
       "      <th>3758</th>\n",
       "      <td>567</td>\n",
       "      <td>29202950.0</td>\n",
       "      <td>85292360.0</td>\n",
       "      <td>24397706.0</td>\n",
       "      <td>50170370.0</td>\n",
       "      <td>38599930.0</td>\n",
       "    </tr>\n",
       "  </tbody>\n",
       "</table>\n",
       "</div>"
      ],
      "text/plain": [
       "      Unnamed: 0           0            1           2            3           4\n",
       "3757         131  64159644.0  187391840.0  53602772.0  110226940.0  84805370.0\n",
       "3758         567  29202950.0   85292360.0  24397706.0   50170370.0  38599930.0"
      ]
     },
     "execution_count": 38,
     "metadata": {},
     "output_type": "execute_result"
    }
   ],
   "source": [
    "li=y_test.loc[y_test['new_stock']=='INTRA'].index\n",
    "pred.loc[li,:]"
   ]
  },
  {
   "cell_type": "code",
   "execution_count": 39,
   "metadata": {},
   "outputs": [
    {
     "data": {
      "text/html": [
       "<div>\n",
       "<style scoped>\n",
       "    .dataframe tbody tr th:only-of-type {\n",
       "        vertical-align: middle;\n",
       "    }\n",
       "\n",
       "    .dataframe tbody tr th {\n",
       "        vertical-align: top;\n",
       "    }\n",
       "\n",
       "    .dataframe thead th {\n",
       "        text-align: right;\n",
       "    }\n",
       "</style>\n",
       "<table border=\"1\" class=\"dataframe\">\n",
       "  <thead>\n",
       "    <tr style=\"text-align: right;\">\n",
       "      <th></th>\n",
       "      <th>Unnamed: 0</th>\n",
       "      <th>0</th>\n",
       "      <th>1</th>\n",
       "      <th>2</th>\n",
       "      <th>3</th>\n",
       "      <th>4</th>\n",
       "    </tr>\n",
       "  </thead>\n",
       "  <tbody>\n",
       "    <tr>\n",
       "      <th>3757</th>\n",
       "      <td>131</td>\n",
       "      <td>996534500.0</td>\n",
       "      <td>608989760.0</td>\n",
       "      <td>213448700.0</td>\n",
       "      <td>510227070.0</td>\n",
       "      <td>661591500.0</td>\n",
       "    </tr>\n",
       "    <tr>\n",
       "      <th>3758</th>\n",
       "      <td>567</td>\n",
       "      <td>997842560.0</td>\n",
       "      <td>551547260.0</td>\n",
       "      <td>210430780.0</td>\n",
       "      <td>493735870.0</td>\n",
       "      <td>643713150.0</td>\n",
       "    </tr>\n",
       "  </tbody>\n",
       "</table>\n",
       "</div>"
      ],
      "text/plain": [
       "      Unnamed: 0            0            1            2            3  \\\n",
       "3757         131  996534500.0  608989760.0  213448700.0  510227070.0   \n",
       "3758         567  997842560.0  551547260.0  210430780.0  493735870.0   \n",
       "\n",
       "                4  \n",
       "3757  661591500.0  \n",
       "3758  643713150.0  "
      ]
     },
     "execution_count": 39,
     "metadata": {},
     "output_type": "execute_result"
    }
   ],
   "source": [
    "pred_cancat.loc[li,:]"
   ]
  },
  {
   "cell_type": "code",
   "execution_count": 59,
   "metadata": {},
   "outputs": [],
   "source": [
    "for i in stocks_with_two_occurrences.index:\n",
    "    li=y_test.loc[y_test['new_stock']==i].index\n",
    "    # y_test = y_test.apply(pd.to_numeric, errors='coerce')\n",
    "    # pred = pred.apply(pd.to_numeric, errors='coerce')\n",
    "    mapsum=abs(y_test.loc[y_test['new_stock']==i]-pred.loc[li,:])"
   ]
  },
  {
   "cell_type": "code",
   "execution_count": 61,
   "metadata": {},
   "outputs": [
    {
     "data": {
      "text/plain": [
       "'SCL'"
      ]
     },
     "execution_count": 61,
     "metadata": {},
     "output_type": "execute_result"
    }
   ],
   "source": [
    "i"
   ]
  },
  {
   "cell_type": "code",
   "execution_count": 60,
   "metadata": {},
   "outputs": [
    {
     "data": {
      "text/html": [
       "<div>\n",
       "<style scoped>\n",
       "    .dataframe tbody tr th:only-of-type {\n",
       "        vertical-align: middle;\n",
       "    }\n",
       "\n",
       "    .dataframe tbody tr th {\n",
       "        vertical-align: top;\n",
       "    }\n",
       "\n",
       "    .dataframe thead th {\n",
       "        text-align: right;\n",
       "    }\n",
       "</style>\n",
       "<table border=\"1\" class=\"dataframe\">\n",
       "  <thead>\n",
       "    <tr style=\"text-align: right;\">\n",
       "      <th></th>\n",
       "      <th>Unnamed: 0</th>\n",
       "      <th>Current Assets</th>\n",
       "      <th>Total Non Current Assets</th>\n",
       "      <th>Current Liabilities</th>\n",
       "      <th>Total Non Current Liabilities Net Minority Interest</th>\n",
       "      <th>Stockholders Equity</th>\n",
       "      <th>new_stock</th>\n",
       "    </tr>\n",
       "  </thead>\n",
       "  <tbody>\n",
       "  </tbody>\n",
       "</table>\n",
       "</div>"
      ],
      "text/plain": [
       "Empty DataFrame\n",
       "Columns: [Unnamed: 0, Current Assets, Total Non Current Assets, Current Liabilities, Total Non Current Liabilities Net Minority Interest, Stockholders Equity, new_stock]\n",
       "Index: []"
      ]
     },
     "execution_count": 60,
     "metadata": {},
     "output_type": "execute_result"
    }
   ],
   "source": [
    "y_test.loc[y_test['new_stock']==i]"
   ]
  },
  {
   "cell_type": "code",
   "execution_count": 58,
   "metadata": {},
   "outputs": [
    {
     "data": {
      "text/html": [
       "<div>\n",
       "<style scoped>\n",
       "    .dataframe tbody tr th:only-of-type {\n",
       "        vertical-align: middle;\n",
       "    }\n",
       "\n",
       "    .dataframe tbody tr th {\n",
       "        vertical-align: top;\n",
       "    }\n",
       "\n",
       "    .dataframe thead th {\n",
       "        text-align: right;\n",
       "    }\n",
       "</style>\n",
       "<table border=\"1\" class=\"dataframe\">\n",
       "  <thead>\n",
       "    <tr style=\"text-align: right;\">\n",
       "      <th></th>\n",
       "      <th>Unnamed: 0</th>\n",
       "      <th>Current Assets</th>\n",
       "      <th>Total Non Current Assets</th>\n",
       "      <th>Current Liabilities</th>\n",
       "      <th>Total Non Current Liabilities Net Minority Interest</th>\n",
       "      <th>Stockholders Equity</th>\n",
       "      <th>new_stock</th>\n",
       "    </tr>\n",
       "  </thead>\n",
       "  <tbody>\n",
       "  </tbody>\n",
       "</table>\n",
       "</div>"
      ],
      "text/plain": [
       "Empty DataFrame\n",
       "Columns: [Unnamed: 0, Current Assets, Total Non Current Assets, Current Liabilities, Total Non Current Liabilities Net Minority Interest, Stockholders Equity, new_stock]\n",
       "Index: []"
      ]
     },
     "execution_count": 58,
     "metadata": {},
     "output_type": "execute_result"
    }
   ],
   "source": [
    "y_test.loc[y_test['new_stock']==i]"
   ]
  },
  {
   "cell_type": "code",
   "execution_count": 54,
   "metadata": {},
   "outputs": [
    {
     "data": {
      "text/html": [
       "<div>\n",
       "<style scoped>\n",
       "    .dataframe tbody tr th:only-of-type {\n",
       "        vertical-align: middle;\n",
       "    }\n",
       "\n",
       "    .dataframe tbody tr th {\n",
       "        vertical-align: top;\n",
       "    }\n",
       "\n",
       "    .dataframe thead th {\n",
       "        text-align: right;\n",
       "    }\n",
       "</style>\n",
       "<table border=\"1\" class=\"dataframe\">\n",
       "  <thead>\n",
       "    <tr style=\"text-align: right;\">\n",
       "      <th></th>\n",
       "      <th>0</th>\n",
       "      <th>1</th>\n",
       "      <th>2</th>\n",
       "      <th>3</th>\n",
       "      <th>4</th>\n",
       "      <th>Current Assets</th>\n",
       "      <th>Current Liabilities</th>\n",
       "      <th>Stockholders Equity</th>\n",
       "      <th>Total Non Current Assets</th>\n",
       "      <th>Total Non Current Liabilities Net Minority Interest</th>\n",
       "      <th>Unnamed: 0</th>\n",
       "      <th>new_stock</th>\n",
       "    </tr>\n",
       "  </thead>\n",
       "  <tbody>\n",
       "  </tbody>\n",
       "</table>\n",
       "</div>"
      ],
      "text/plain": [
       "Empty DataFrame\n",
       "Columns: [0, 1, 2, 3, 4, Current Assets, Current Liabilities, Stockholders Equity, Total Non Current Assets, Total Non Current Liabilities Net Minority Interest, Unnamed: 0, new_stock]\n",
       "Index: []"
      ]
     },
     "execution_count": 54,
     "metadata": {},
     "output_type": "execute_result"
    }
   ],
   "source": [
    "mapsum"
   ]
  },
  {
   "cell_type": "code",
   "execution_count": 51,
   "metadata": {},
   "outputs": [
    {
     "data": {
      "text/html": [
       "<div>\n",
       "<style scoped>\n",
       "    .dataframe tbody tr th:only-of-type {\n",
       "        vertical-align: middle;\n",
       "    }\n",
       "\n",
       "    .dataframe tbody tr th {\n",
       "        vertical-align: top;\n",
       "    }\n",
       "\n",
       "    .dataframe thead th {\n",
       "        text-align: right;\n",
       "    }\n",
       "</style>\n",
       "<table border=\"1\" class=\"dataframe\">\n",
       "  <thead>\n",
       "    <tr style=\"text-align: right;\">\n",
       "      <th></th>\n",
       "      <th>Unnamed: 0</th>\n",
       "      <th>Current Assets</th>\n",
       "      <th>Total Non Current Assets</th>\n",
       "      <th>Current Liabilities</th>\n",
       "      <th>Total Non Current Liabilities Net Minority Interest</th>\n",
       "      <th>Stockholders Equity</th>\n",
       "      <th>new_stock</th>\n",
       "    </tr>\n",
       "  </thead>\n",
       "  <tbody>\n",
       "    <tr>\n",
       "      <th>2891</th>\n",
       "      <td>2022-12-31</td>\n",
       "      <td>353932000.0</td>\n",
       "      <td>921518000.0</td>\n",
       "      <td>197887000.0</td>\n",
       "      <td>200049000.0</td>\n",
       "      <td>874276000.0</td>\n",
       "      <td>VSTO</td>\n",
       "    </tr>\n",
       "    <tr>\n",
       "      <th>2892</th>\n",
       "      <td>2021-12-31</td>\n",
       "      <td>426638000.0</td>\n",
       "      <td>976758000.0</td>\n",
       "      <td>263201000.0</td>\n",
       "      <td>231735000.0</td>\n",
       "      <td>903004000.0</td>\n",
       "      <td>VSTO</td>\n",
       "    </tr>\n",
       "  </tbody>\n",
       "</table>\n",
       "</div>"
      ],
      "text/plain": [
       "      Unnamed: 0  Current Assets  Total Non Current Assets  \\\n",
       "2891  2022-12-31     353932000.0               921518000.0   \n",
       "2892  2021-12-31     426638000.0               976758000.0   \n",
       "\n",
       "      Current Liabilities  \\\n",
       "2891          197887000.0   \n",
       "2892          263201000.0   \n",
       "\n",
       "      Total Non Current Liabilities Net Minority Interest  \\\n",
       "2891                                        200049000.0     \n",
       "2892                                        231735000.0     \n",
       "\n",
       "      Stockholders Equity new_stock  \n",
       "2891          874276000.0      VSTO  \n",
       "2892          903004000.0      VSTO  "
      ]
     },
     "execution_count": 51,
     "metadata": {},
     "output_type": "execute_result"
    }
   ],
   "source": [
    "y_test.loc[y_test['new_stock']==i]"
   ]
  },
  {
   "cell_type": "code",
   "execution_count": 52,
   "metadata": {},
   "outputs": [
    {
     "data": {
      "text/html": [
       "<div>\n",
       "<style scoped>\n",
       "    .dataframe tbody tr th:only-of-type {\n",
       "        vertical-align: middle;\n",
       "    }\n",
       "\n",
       "    .dataframe tbody tr th {\n",
       "        vertical-align: top;\n",
       "    }\n",
       "\n",
       "    .dataframe thead th {\n",
       "        text-align: right;\n",
       "    }\n",
       "</style>\n",
       "<table border=\"1\" class=\"dataframe\">\n",
       "  <thead>\n",
       "    <tr style=\"text-align: right;\">\n",
       "      <th></th>\n",
       "      <th>Unnamed: 0</th>\n",
       "      <th>0</th>\n",
       "      <th>1</th>\n",
       "      <th>2</th>\n",
       "      <th>3</th>\n",
       "      <th>4</th>\n",
       "    </tr>\n",
       "  </thead>\n",
       "  <tbody>\n",
       "    <tr>\n",
       "      <th>2891</th>\n",
       "      <td>339</td>\n",
       "      <td>322039460.0</td>\n",
       "      <td>940583940.0</td>\n",
       "      <td>269051260.0</td>\n",
       "      <td>553271800.0</td>\n",
       "      <td>425662430.0</td>\n",
       "    </tr>\n",
       "    <tr>\n",
       "      <th>2892</th>\n",
       "      <td>707</td>\n",
       "      <td>308596800.0</td>\n",
       "      <td>901314500.0</td>\n",
       "      <td>257820640.0</td>\n",
       "      <td>530173340.0</td>\n",
       "      <td>407892200.0</td>\n",
       "    </tr>\n",
       "  </tbody>\n",
       "</table>\n",
       "</div>"
      ],
      "text/plain": [
       "      Unnamed: 0            0            1            2            3  \\\n",
       "2891         339  322039460.0  940583940.0  269051260.0  553271800.0   \n",
       "2892         707  308596800.0  901314500.0  257820640.0  530173340.0   \n",
       "\n",
       "                4  \n",
       "2891  425662430.0  \n",
       "2892  407892200.0  "
      ]
     },
     "execution_count": 52,
     "metadata": {},
     "output_type": "execute_result"
    }
   ],
   "source": [
    "pred.loc[li,:]"
   ]
  },
  {
   "cell_type": "code",
   "execution_count": 46,
   "metadata": {},
   "outputs": [
    {
     "data": {
      "text/plain": [
       "2"
      ]
     },
     "execution_count": 46,
     "metadata": {},
     "output_type": "execute_result"
    }
   ],
   "source": [
    "i"
   ]
  },
  {
   "cell_type": "code",
   "execution_count": 48,
   "metadata": {},
   "outputs": [
    {
     "data": {
      "text/plain": [
       "Index(['VSTO', 'CRWD', 'SW', 'IRDM', 'INTRA', 'JABIL', 'BEACH', 'CARS', 'SLP',\n",
       "       'RSG',\n",
       "       ...\n",
       "       'DAL', 'PAG', 'EBF', 'OII', 'MELI', 'AO', 'AXP', 'VRTV', 'FAIR', 'SCL'],\n",
       "      dtype='object', name='new_stock', length=123)"
      ]
     },
     "execution_count": 48,
     "metadata": {},
     "output_type": "execute_result"
    }
   ],
   "source": [
    "stocks_with_two_occurrences.index"
   ]
  },
  {
   "cell_type": "code",
   "execution_count": null,
   "metadata": {},
   "outputs": [],
   "source": []
  }
 ],
 "metadata": {
  "kernelspec": {
   "display_name": "tf210",
   "language": "python",
   "name": "python3"
  },
  "language_info": {
   "codemirror_mode": {
    "name": "ipython",
    "version": 3
   },
   "file_extension": ".py",
   "mimetype": "text/x-python",
   "name": "python",
   "nbconvert_exporter": "python",
   "pygments_lexer": "ipython3",
   "version": "3.9.21"
  }
 },
 "nbformat": 4,
 "nbformat_minor": 2
}
